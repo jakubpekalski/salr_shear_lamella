{
 "cells": [
  {
   "cell_type": "code",
   "execution_count": 15,
   "metadata": {},
   "outputs": [],
   "source": [
    "import numpy as np\n",
    "import tensorflow.compat.v1 as tf\n",
    "import matplotlib.pyplot as plt\n",
    "import pandas as pd\n",
    "import os.path\n",
    "from os import path"
   ]
  },
  {
   "cell_type": "code",
   "execution_count": 2,
   "metadata": {},
   "outputs": [
    {
     "data": {
      "text/plain": [
       "'2.0.0-rc1'"
      ]
     },
     "execution_count": 2,
     "metadata": {},
     "output_type": "execute_result"
    }
   ],
   "source": [
    "tf.__version__"
   ]
  },
  {
   "cell_type": "code",
   "execution_count": 3,
   "metadata": {},
   "outputs": [
    {
     "name": "stdout",
     "output_type": "stream",
     "text": [
      "WARNING:tensorflow:From C:\\Users\\1234\\Anaconda3\\lib\\site-packages\\tensorflow_core\\python\\compat\\v2_compat.py:65: disable_resource_variables (from tensorflow.python.ops.variable_scope) is deprecated and will be removed in a future version.\n",
      "Instructions for updating:\n",
      "non-resource variables are not supported in the long term\n"
     ]
    }
   ],
   "source": [
    "tf.disable_v2_behavior()"
   ]
  },
  {
   "cell_type": "code",
   "execution_count": 4,
   "metadata": {},
   "outputs": [
    {
     "name": "stdout",
     "output_type": "stream",
     "text": [
      "(5020000,)\n",
      "(502, 10000)\n"
     ]
    }
   ],
   "source": [
    "czek = np.load('snaps_R/snaps_T042_R01.npy')\n",
    "print(czek.shape)\n",
    "czek = np.reshape(czek,(502,100*100))\n",
    "print(czek.shape)"
   ]
  },
  {
   "cell_type": "code",
   "execution_count": 4,
   "metadata": {},
   "outputs": [],
   "source": [
    "#universal regardless of snapshot size\n",
    "N_PHASES = 3\n",
    "HIDDEN_NODES = 32\n",
    "num_of_snaps_in_file = 502"
   ]
  },
  {
   "cell_type": "code",
   "execution_count": 5,
   "metadata": {},
   "outputs": [],
   "source": [
    "#universal regardless of snapshot size\n",
    "def model(X):\n",
    "    \"\"\"Creates a neural network with input X\"\"\"\n",
    "    #hidden layer with 100 neurons, ReLU activated\n",
    "    X = tf.layers.dense(inputs=X, units=HIDDEN_NODES, activation=tf.nn.relu)\n",
    "    #output layer with 3 neurons (as there are 3 classes to classify, softmax activated)\n",
    "    X = tf.layers.dense(inputs = X, units = N_PHASES, activation=tf.nn.softmax)\n",
    "    return X    \n",
    "\n",
    "def loss_fun(output,labels):\n",
    "    \"\"\"Cross-entropy loss:\n",
    "    labels - a tensor of labels, shape ?x1\n",
    "    output - neural network softmax output, shape ?x3\"\"\"\n",
    "    onehot_labels = tf.one_hot(indices=labels, depth=N_PHASES)\n",
    "    probability_right = tf.reduce_sum(tf.multiply(onehot_labels, output), axis=1)\n",
    "    cnst=tf.constant(0.00000001)#to avoid log(0)\n",
    "    return -tf.reduce_mean(tf.log(cnst + probability_right))\n",
    "\n",
    "def accuracy(output,labels):\n",
    "    \"\"\"Accuracy, i.e. what is the fraction of correctly labeled examples\n",
    "    labels - a tensor of labels, shape ?x1\n",
    "    output - neural network softmax output, shape ?x3\n",
    "    \"\"\"\n",
    "    argmax = tf.cast(tf.argmax(output, 1), dtype=tf.int32 )\n",
    "    equals = tf.cast (tf.equal(argmax, labels), dtype=tf.float32)\n",
    "    return tf.reduce_mean(equals)"
   ]
  },
  {
   "cell_type": "code",
   "execution_count": 6,
   "metadata": {},
   "outputs": [],
   "source": [
    "visible_nodes = 100*100"
   ]
  },
  {
   "cell_type": "code",
   "execution_count": 24,
   "metadata": {},
   "outputs": [
    {
     "name": "stdout",
     "output_type": "stream",
     "text": [
      "(4518, 10000)\n"
     ]
    }
   ],
   "source": [
    "#get training and validation data (80% training, 20% validation)\n",
    "\n",
    "numbers = ['001','30','01','6','8','10','16','20','24']\n",
    "filenames = ['snaps_R/snaps_T042_R'+str(number)+'.npy' for number in numbers]\n",
    "\n",
    "examples = [np.reshape(np.load(filename),(num_of_snaps_in_file,visible_nodes)) for filename in filenames]\n",
    "examples = np.concatenate(examples, axis = 0)\n",
    "print(np.shape(examples))\n",
    "\n",
    "ex_per_phase = examples.shape[0]/N_PHASES #examples per phase\n",
    "labels = np.concatenate([np.repeat(0, ex_per_phase), np.repeat(1, ex_per_phase),  np.repeat(2, ex_per_phase)], axis=0)\n",
    "\n",
    "#randomly permute the data and assign 80% to training with 20% to validation\n",
    "perm = np.random.permutation(examples.shape[0])\n",
    "labels, examples = labels[perm], examples[perm]\n",
    "num_training = int(0.8*examples.shape[0])\n",
    "x_trn, x_val = examples[:num_training], examples[num_training:]\n",
    "y_trn, y_val = labels[:num_training], labels[num_training:]\n",
    "\n",
    "#placeholders for X (input) and Y (output) of the neural network and saver to save the network to a file when needed\n",
    "Xph = tf.placeholder(tf.float32, shape=[None, visible_nodes], name=\"X_ph\")\n",
    "Yph = tf.placeholder(tf.int32, shape=[None], name=\"Y_ph\")"
   ]
  },
  {
   "cell_type": "code",
   "execution_count": 25,
   "metadata": {},
   "outputs": [
    {
     "name": "stdout",
     "output_type": "stream",
     "text": [
      "Check before any training. Acc traninig set: 0.24405092 Acc validation set: 0.23230088 Loss traninig set: 1.2302978 Loss validation set: 1.2299501\n"
     ]
    }
   ],
   "source": [
    "#create the network, test if before any training accuracy is around ~33%\n",
    "#create a Saver() for further saving of trained network\n",
    "neural_net = model(Xph)\n",
    "loss = loss_fun(neural_net, Yph)\n",
    "acc = accuracy(neural_net, Yph)\n",
    "\n",
    "\n",
    "with tf.Session() as sess:\n",
    "    sess.run(tf.global_variables_initializer())\n",
    "    acc_tr = sess.run(acc, feed_dict={Xph:x_trn, Yph:y_trn})\n",
    "    acc_val = sess.run(acc, feed_dict={Xph:x_val, Yph:y_val})\n",
    "    loss_tr = sess.run(loss, feed_dict={Xph:x_trn, Yph:y_trn})\n",
    "    loss_val = sess.run(loss, feed_dict={Xph:x_val, Yph:y_val})\n",
    "    print(\"Check before any training. Acc traninig set:\", acc_tr, \"Acc validation set:\", acc_val,\n",
    "         \"Loss traninig set:\", loss_tr, \"Loss validation set:\", loss_val)\n",
    "    \n",
    "saver = tf.train.Saver()"
   ]
  },
  {
   "cell_type": "code",
   "execution_count": 26,
   "metadata": {},
   "outputs": [
    {
     "name": "stdout",
     "output_type": "stream",
     "text": [
      "==========\n",
      "Epoch 0 \n",
      "acc train 0.3702269 acc val 0.38053098 \n",
      "loss train 1.2137079 loss val 1.2324243\n",
      "==========\n",
      "Epoch 2 \n",
      "acc train 0.89734364 acc val 0.8915929 \n",
      "loss train 0.2614381 loss val 0.28191277\n",
      "==========\n",
      "Epoch 4 \n",
      "acc train 0.9800775 acc val 0.9579646 \n",
      "loss train 0.06219765 loss val 0.08975205\n",
      "==========\n",
      "Epoch 6 \n",
      "acc train 0.9997233 acc val 0.99557525 \n",
      "loss train 0.019450875 loss val 0.034903433\n",
      "==========\n",
      "Epoch 8 \n",
      "acc train 1.0 acc val 0.9977876 \n",
      "loss train 0.010819735 loss val 0.02474162\n",
      "==========\n",
      "Epoch 10 \n",
      "acc train 1.0 acc val 1.0 \n",
      "loss train 0.011278113 loss val 0.023661116\n",
      "==========\n",
      "Epoch 12 \n",
      "acc train 1.0 acc val 0.9988938 \n",
      "loss train 0.0045973724 loss val 0.015012889\n",
      "==========\n",
      "Epoch 14 \n",
      "acc train 1.0 acc val 1.0 \n",
      "loss train 0.0034586997 loss val 0.011020673\n",
      "==========\n",
      "Epoch 16 \n",
      "acc train 1.0 acc val 0.9977876 \n",
      "loss train 0.00303753 loss val 0.014529874\n",
      "==========\n",
      "Epoch 18 \n",
      "acc train 1.0 acc val 1.0 \n",
      "loss train 0.0019745543 loss val 0.009832634\n",
      "==========\n",
      "Epoch 20 \n",
      "acc train 1.0 acc val 1.0 \n",
      "loss train 0.0013190312 loss val 0.0068138186\n",
      "==========\n",
      "Epoch 22 \n",
      "acc train 1.0 acc val 1.0 \n",
      "loss train 0.0010730568 loss val 0.007099762\n",
      "==========\n",
      "Epoch 24 \n",
      "acc train 1.0 acc val 1.0 \n",
      "loss train 0.0008010173 loss val 0.0051853987\n"
     ]
    }
   ],
   "source": [
    "#train the network\n",
    "num_epochs = 25\n",
    "minibatch_size = 25\n",
    "num_batches = int(np.floor(labels.shape[0]/minibatch_size))\n",
    "train_operation = tf.train.AdamOptimizer(0.0001).minimize(loss)\n",
    "\n",
    "loss_fun_tr =[]\n",
    "loss_fun_val =[]\n",
    "with tf.Session() as sess:\n",
    "    sess.run(tf.global_variables_initializer())\n",
    "    for i in range(num_epochs):\n",
    "        #display training-relevant quantities every 2nd epoch\n",
    "        if (i%2==0):\n",
    "            acc_tr = sess.run(acc, feed_dict = {Xph:x_trn, Yph:y_trn})\n",
    "            acc_val = sess.run(acc, feed_dict = {Xph:x_val, Yph:y_val})\n",
    "            loss_tr = sess.run(loss, feed_dict = {Xph:x_trn, Yph:y_trn})\n",
    "            loss_val = sess.run(loss, feed_dict = {Xph:x_val, Yph:y_val})\n",
    "            print(\"==========\\nEpoch\",i,\"\\nacc train\", acc_tr, \"acc val\",acc_val\n",
    "                  , \"\\nloss train\",loss_tr, \"loss val\",loss_val)\n",
    "            loss_fun_tr.append(loss_tr)\n",
    "            loss_fun_val.append(loss_val)            \n",
    "        #perform the training operation\n",
    "        for j in range(num_batches):\n",
    "            x_batch = x_trn[j*minibatch_size:(j+1)*minibatch_size]\n",
    "            y_batch = y_trn[j*minibatch_size:(j+1)*minibatch_size]\n",
    "            sess.run(train_operation, feed_dict = {Xph:x_batch, Yph:y_batch})\n",
    "        #permute to get different minibatches at next epoch\n",
    "        perm = np.random.permutation(y_trn.shape[0])\n",
    "        x_trn, y_trn = x_trn[perm], y_trn[perm]\n",
    "     #after trainig save the model\n",
    "    saver.save(sess, 'net-after-'+str(num_epochs)+'-epochs')\n",
    "        \n",
    "        "
   ]
  },
  {
   "cell_type": "code",
   "execution_count": 11,
   "metadata": {},
   "outputs": [
    {
     "data": {
      "image/png": "[encoded data removed]",
      "text/plain": [
       "<Figure size 432x288 with 1 Axes>"
      ]
     },
     "metadata": {
      "needs_background": "light"
     },
     "output_type": "display_data"
    }
   ],
   "source": [
    "plt.plot(np.arange(0,num_epochs,2),loss_fun_tr,label='training');\n",
    "plt.plot(np.arange(0,num_epochs,2),loss_fun_val,label='validation');\n",
    "plt.xlabel('epoch #')\n",
    "plt.ylabel('loss function')\n",
    "plt.legend(loc=1)\n",
    "\n",
    "plt.savefig('los_function_T042.png')"
   ]
  },
  {
   "cell_type": "code",
   "execution_count": 27,
   "metadata": {},
   "outputs": [
    {
     "name": "stdout",
     "output_type": "stream",
     "text": [
      "INFO:tensorflow:Restoring parameters from net-after-25-epochs\n"
     ]
    }
   ],
   "source": [
    "#Use the previously trained neural net to classify all examples\n",
    "#For each of the points, check how many of the  snapshots are classified to each phases 0, 1, 2\n",
    "#i. e. print how many occurences of each phase there are\n",
    "shear_values = ['001','003','005','008','01','02','03','05','1','2','3','4','5', '6','7', '8','9','10','11','12','13','14','15','16','17','18','19','20','21','22','23','24','25','26','27','28','29','30','31','32','33'] #\n",
    "temps = ['042', '045','055']\n",
    "res = {}\n",
    "with tf.Session() as sess:\n",
    "    saver.restore(sess,'net-after-'+str(num_epochs)+'-epochs')\n",
    "    for j in temps:\n",
    "        res[j] = {}\n",
    "        for i in shear_values:\n",
    "            snap = 'snaps_R/snaps_T'+str(j)+'_R'+str(i)+'.npy'\n",
    "            if path.isfile(snap):\n",
    "                res[j].update({i:''})\n",
    "                x_current = np.load(snap)\n",
    "                x_current = np.reshape(x_current,(num_of_snaps_in_file,visible_nodes))\n",
    "                out = sess.run(neural_net, feed_dict = {Xph: x_current})\n",
    "                argmax = np.argmax(out,axis=1)\n",
    "                unique, counts = np.unique(argmax, return_counts = True)\n",
    "                counts_to_present = dict(zip(unique, counts/num_of_snaps_in_file))\n",
    "                res[j][i] = counts_to_present"
   ]
  },
  {
   "cell_type": "code",
   "execution_count": 202,
   "metadata": {},
   "outputs": [
    {
     "data": {
      "text/plain": [
       "{'02': {1: 1.0},\n",
       " '03': {1: 1.0},\n",
       " '05': {0: 0.08764940239043825, 1: 0.9123505976095617},\n",
       " '1': {0: 0.703187250996016, 1: 0.2968127490039841},\n",
       " '2': {0: 0.47410358565737054, 1: 0.5258964143426295},\n",
       " '4': {0: 1.0},\n",
       " '6': {0: 1.0},\n",
       " '8': {0: 1.0},\n",
       " '10': {0: 1.0},\n",
       " '12': {1: 1.0},\n",
       " '14': {0: 0.05179282868525897, 1: 0.9482071713147411},\n",
       " '16': {1: 1.0},\n",
       " '18': {1: 1.0},\n",
       " '20': {0: 0.09760956175298804, 1: 0.9023904382470119},\n",
       " '22': {0: 0.6633466135458167, 1: 0.33665338645418325},\n",
       " '24': {1: 1.0},\n",
       " '26': {1: 1.0}}"
      ]
     },
     "execution_count": 202,
     "metadata": {},
     "output_type": "execute_result"
    }
   ],
   "source": [
    "\n",
    "#res.keys()\n",
    "#res.values()\n",
    "#print(res.get('01').values())\n",
    "res"
   ]
  },
  {
   "cell_type": "code",
   "execution_count": 42,
   "metadata": {},
   "outputs": [
    {
     "data": {
      "image/png": "[encoded data removed]",
      "text/plain": [
       "<Figure size 504x288 with 1 Axes>"
      ]
     },
     "metadata": {
      "needs_background": "light"
     },
     "output_type": "display_data"
    },
    {
     "data": {
      "text/plain": [
       "<Figure size 432x288 with 0 Axes>"
      ]
     },
     "metadata": {},
     "output_type": "display_data"
    }
   ],
   "source": [
    "T = '042'\n",
    "pd.DataFrame(res[T]).T.plot(kind='bar',stacked=True, figsize=(7,4), legend = False)\n",
    "plt.xlabel('R',fontsize=15)\n",
    "plt.ylabel('S',fontsize=15)\n",
    "#plt.title(\"Dense Network, T = \"+str(T),fontsize=20)\n",
    "plt.ylim(0,1)\n",
    "plt.gcf().subplots_adjust(bottom=0.15)\n",
    "\n",
    "plt.savefig('T042_diagram_3phases.png')\n",
    "plt.savefig('T042_diagram_3phases.svg')\n",
    "plt.savefig('T042_diagram_3phases.eps')\n",
    "\n",
    "plt.show()\n",
    "plt.draw()"
   ]
  },
  {
   "cell_type": "code",
   "execution_count": 43,
   "metadata": {},
   "outputs": [
    {
     "data": {
      "image/png": "[encoded data removed]",
      "text/plain": [
       "<Figure size 432x288 with 1 Axes>"
      ]
     },
     "metadata": {
      "needs_background": "light"
     },
     "output_type": "display_data"
    },
    {
     "data": {
      "text/plain": [
       "<Figure size 432x288 with 0 Axes>"
      ]
     },
     "metadata": {},
     "output_type": "display_data"
    }
   ],
   "source": [
    "T = '055'\n",
    "pd.DataFrame(res[T]).T.plot(kind='bar',stacked=True, figsize=(6,4), legend = False)\n",
    "plt.xlabel('R',fontsize=15)\n",
    "plt.ylabel('S',fontsize=15)\n",
    "#plt.title(\"Dense Network, T = \"+str(T),fontsize=20)\n",
    "plt.ylim(0,1)\n",
    "plt.gcf().subplots_adjust(bottom=0.15)\n",
    "\n",
    "plt.savefig('T055_diagram_3phases.png')\n",
    "plt.savefig('T055_diagram_3phases.svg')\n",
    "plt.savefig('T055_diagram_3phases.eps')\n",
    "\n",
    "plt.show()\n",
    "plt.draw()"
   ]
  },
  {
   "cell_type": "code",
   "execution_count": null,
   "metadata": {},
   "outputs": [],
   "source": []
  }
 ],
 "metadata": {
  "kernelspec": {
   "display_name": "Python 3",
   "language": "python",
   "name": "python3"
  },
  "language_info": {
   "codemirror_mode": {
    "name": "ipython",
    "version": 3
   },
   "file_extension": ".py",
   "mimetype": "text/x-python",
   "name": "python",
   "nbconvert_exporter": "python",
   "pygments_lexer": "ipython3",
   "version": "3.7.3"
  }
 },
 "nbformat": 4,
 "nbformat_minor": 2
}
